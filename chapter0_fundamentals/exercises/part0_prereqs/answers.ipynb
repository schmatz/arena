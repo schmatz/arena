{
 "cells": [
  {
   "cell_type": "code",
   "execution_count": 9,
   "metadata": {},
   "outputs": [],
   "source": [
    "import math\n",
    "import os\n",
    "import sys\n",
    "from pathlib import Path\n",
    "\n",
    "import einops\n",
    "import numpy as np\n",
    "import tests as tests\n",
    "import torch as t\n",
    "from plotly_utils import bar, imshow, line\n",
    "from utils import display_array_as_img\n",
    "\n",
    "# Make sure exercises are in the path\n",
    "chapter = r\"chapter0_fundamentals\"\n",
    "exercises_dir = Path(f\"{os.getcwd().split(chapter)[0]}/{chapter}/exercises\").resolve()\n",
    "section_dir = exercises_dir / \"part0_prereqs\"\n",
    "if str(exercises_dir) not in sys.path:\n",
    "    sys.path.append(str(exercises_dir))\n",
    "\n",
    "\n",
    "MAIN = __name__ == \"__main__\""
   ]
  },
  {
   "cell_type": "code",
   "execution_count": 26,
   "metadata": {},
   "outputs": [
    {
     "data": {
      "application/vnd.plotly.v1+json": {
       "config": {
        "displayModeBar": false,
        "plotlyServerURL": "https://plot.ly"
       },
       "data": [
        {
         "hovertemplate": "x: %{x}<br>y: %{y}<br>color: [%{z[0]}, %{z[1]}, %{z[2]}]<extra></extra>",
         "name": "0",
         "source": "data:image/png;base64,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",
         "type": "image",
         "xaxis": "x",
         "yaxis": "y"
        }
       ],
       "layout": {
        "coloraxis": {
         "showscale": false
        },
        "height": 150,
        "margin": {
         "b": 0,
         "l": 0,
         "r": 0,
         "t": 0
        },
        "template": {
         "data": {
          "bar": [
           {
            "error_x": {
             "color": "#2a3f5f"
            },
            "error_y": {
             "color": "#2a3f5f"
            },
            "marker": {
             "line": {
              "color": "#E5ECF6",
              "width": 0.5
             },
             "pattern": {
              "fillmode": "overlay",
              "size": 10,
              "solidity": 0.2
             }
            },
            "type": "bar"
           }
          ],
          "barpolar": [
           {
            "marker": {
             "line": {
              "color": "#E5ECF6",
              "width": 0.5
             },
             "pattern": {
              "fillmode": "overlay",
              "size": 10,
              "solidity": 0.2
             }
            },
            "type": "barpolar"
           }
          ],
          "carpet": [
           {
            "aaxis": {
             "endlinecolor": "#2a3f5f",
             "gridcolor": "white",
             "linecolor": "white",
             "minorgridcolor": "white",
             "startlinecolor": "#2a3f5f"
            },
            "baxis": {
             "endlinecolor": "#2a3f5f",
             "gridcolor": "white",
             "linecolor": "white",
             "minorgridcolor": "white",
             "startlinecolor": "#2a3f5f"
            },
            "type": "carpet"
           }
          ],
          "choropleth": [
           {
            "colorbar": {
             "outlinewidth": 0,
             "ticks": ""
            },
            "type": "choropleth"
           }
          ],
          "contour": [
           {
            "colorbar": {
             "outlinewidth": 0,
             "ticks": ""
            },
            "colorscale": [
             [
              0,
              "#0d0887"
             ],
             [
              0.1111111111111111,
              "#46039f"
             ],
             [
              0.2222222222222222,
              "#7201a8"
             ],
             [
              0.3333333333333333,
              "#9c179e"
             ],
             [
              0.4444444444444444,
              "#bd3786"
             ],
             [
              0.5555555555555556,
              "#d8576b"
             ],
             [
              0.6666666666666666,
              "#ed7953"
             ],
             [
              0.7777777777777778,
              "#fb9f3a"
             ],
             [
              0.8888888888888888,
              "#fdca26"
             ],
             [
              1,
              "#f0f921"
             ]
            ],
            "type": "contour"
           }
          ],
          "contourcarpet": [
           {
            "colorbar": {
             "outlinewidth": 0,
             "ticks": ""
            },
            "type": "contourcarpet"
           }
          ],
          "heatmap": [
           {
            "colorbar": {
             "outlinewidth": 0,
             "ticks": ""
            },
            "colorscale": [
             [
              0,
              "#0d0887"
             ],
             [
              0.1111111111111111,
              "#46039f"
             ],
             [
              0.2222222222222222,
              "#7201a8"
             ],
             [
              0.3333333333333333,
              "#9c179e"
             ],
             [
              0.4444444444444444,
              "#bd3786"
             ],
             [
              0.5555555555555556,
              "#d8576b"
             ],
             [
              0.6666666666666666,
              "#ed7953"
             ],
             [
              0.7777777777777778,
              "#fb9f3a"
             ],
             [
              0.8888888888888888,
              "#fdca26"
             ],
             [
              1,
              "#f0f921"
             ]
            ],
            "type": "heatmap"
           }
          ],
          "heatmapgl": [
           {
            "colorbar": {
             "outlinewidth": 0,
             "ticks": ""
            },
            "colorscale": [
             [
              0,
              "#0d0887"
             ],
             [
              0.1111111111111111,
              "#46039f"
             ],
             [
              0.2222222222222222,
              "#7201a8"
             ],
             [
              0.3333333333333333,
              "#9c179e"
             ],
             [
              0.4444444444444444,
              "#bd3786"
             ],
             [
              0.5555555555555556,
              "#d8576b"
             ],
             [
              0.6666666666666666,
              "#ed7953"
             ],
             [
              0.7777777777777778,
              "#fb9f3a"
             ],
             [
              0.8888888888888888,
              "#fdca26"
             ],
             [
              1,
              "#f0f921"
             ]
            ],
            "type": "heatmapgl"
           }
          ],
          "histogram": [
           {
            "marker": {
             "pattern": {
              "fillmode": "overlay",
              "size": 10,
              "solidity": 0.2
             }
            },
            "type": "histogram"
           }
          ],
          "histogram2d": [
           {
            "colorbar": {
             "outlinewidth": 0,
             "ticks": ""
            },
            "colorscale": [
             [
              0,
              "#0d0887"
             ],
             [
              0.1111111111111111,
              "#46039f"
             ],
             [
              0.2222222222222222,
              "#7201a8"
             ],
             [
              0.3333333333333333,
              "#9c179e"
             ],
             [
              0.4444444444444444,
              "#bd3786"
             ],
             [
              0.5555555555555556,
              "#d8576b"
             ],
             [
              0.6666666666666666,
              "#ed7953"
             ],
             [
              0.7777777777777778,
              "#fb9f3a"
             ],
             [
              0.8888888888888888,
              "#fdca26"
             ],
             [
              1,
              "#f0f921"
             ]
            ],
            "type": "histogram2d"
           }
          ],
          "histogram2dcontour": [
           {
            "colorbar": {
             "outlinewidth": 0,
             "ticks": ""
            },
            "colorscale": [
             [
              0,
              "#0d0887"
             ],
             [
              0.1111111111111111,
              "#46039f"
             ],
             [
              0.2222222222222222,
              "#7201a8"
             ],
             [
              0.3333333333333333,
              "#9c179e"
             ],
             [
              0.4444444444444444,
              "#bd3786"
             ],
             [
              0.5555555555555556,
              "#d8576b"
             ],
             [
              0.6666666666666666,
              "#ed7953"
             ],
             [
              0.7777777777777778,
              "#fb9f3a"
             ],
             [
              0.8888888888888888,
              "#fdca26"
             ],
             [
              1,
              "#f0f921"
             ]
            ],
            "type": "histogram2dcontour"
           }
          ],
          "mesh3d": [
           {
            "colorbar": {
             "outlinewidth": 0,
             "ticks": ""
            },
            "type": "mesh3d"
           }
          ],
          "parcoords": [
           {
            "line": {
             "colorbar": {
              "outlinewidth": 0,
              "ticks": ""
             }
            },
            "type": "parcoords"
           }
          ],
          "pie": [
           {
            "automargin": true,
            "type": "pie"
           }
          ],
          "scatter": [
           {
            "fillpattern": {
             "fillmode": "overlay",
             "size": 10,
             "solidity": 0.2
            },
            "type": "scatter"
           }
          ],
          "scatter3d": [
           {
            "line": {
             "colorbar": {
              "outlinewidth": 0,
              "ticks": ""
             }
            },
            "marker": {
             "colorbar": {
              "outlinewidth": 0,
              "ticks": ""
             }
            },
            "type": "scatter3d"
           }
          ],
          "scattercarpet": [
           {
            "marker": {
             "colorbar": {
              "outlinewidth": 0,
              "ticks": ""
             }
            },
            "type": "scattercarpet"
           }
          ],
          "scattergeo": [
           {
            "marker": {
             "colorbar": {
              "outlinewidth": 0,
              "ticks": ""
             }
            },
            "type": "scattergeo"
           }
          ],
          "scattergl": [
           {
            "marker": {
             "colorbar": {
              "outlinewidth": 0,
              "ticks": ""
             }
            },
            "type": "scattergl"
           }
          ],
          "scattermapbox": [
           {
            "marker": {
             "colorbar": {
              "outlinewidth": 0,
              "ticks": ""
             }
            },
            "type": "scattermapbox"
           }
          ],
          "scatterpolar": [
           {
            "marker": {
             "colorbar": {
              "outlinewidth": 0,
              "ticks": ""
             }
            },
            "type": "scatterpolar"
           }
          ],
          "scatterpolargl": [
           {
            "marker": {
             "colorbar": {
              "outlinewidth": 0,
              "ticks": ""
             }
            },
            "type": "scatterpolargl"
           }
          ],
          "scatterternary": [
           {
            "marker": {
             "colorbar": {
              "outlinewidth": 0,
              "ticks": ""
             }
            },
            "type": "scatterternary"
           }
          ],
          "surface": [
           {
            "colorbar": {
             "outlinewidth": 0,
             "ticks": ""
            },
            "colorscale": [
             [
              0,
              "#0d0887"
             ],
             [
              0.1111111111111111,
              "#46039f"
             ],
             [
              0.2222222222222222,
              "#7201a8"
             ],
             [
              0.3333333333333333,
              "#9c179e"
             ],
             [
              0.4444444444444444,
              "#bd3786"
             ],
             [
              0.5555555555555556,
              "#d8576b"
             ],
             [
              0.6666666666666666,
              "#ed7953"
             ],
             [
              0.7777777777777778,
              "#fb9f3a"
             ],
             [
              0.8888888888888888,
              "#fdca26"
             ],
             [
              1,
              "#f0f921"
             ]
            ],
            "type": "surface"
           }
          ],
          "table": [
           {
            "cells": {
             "fill": {
              "color": "#EBF0F8"
             },
             "line": {
              "color": "white"
             }
            },
            "header": {
             "fill": {
              "color": "#C8D4E3"
             },
             "line": {
              "color": "white"
             }
            },
            "type": "table"
           }
          ]
         },
         "layout": {
          "annotationdefaults": {
           "arrowcolor": "#2a3f5f",
           "arrowhead": 0,
           "arrowwidth": 1
          },
          "autotypenumbers": "strict",
          "coloraxis": {
           "colorbar": {
            "outlinewidth": 0,
            "ticks": ""
           }
          },
          "colorscale": {
           "diverging": [
            [
             0,
             "#8e0152"
            ],
            [
             0.1,
             "#c51b7d"
            ],
            [
             0.2,
             "#de77ae"
            ],
            [
             0.3,
             "#f1b6da"
            ],
            [
             0.4,
             "#fde0ef"
            ],
            [
             0.5,
             "#f7f7f7"
            ],
            [
             0.6,
             "#e6f5d0"
            ],
            [
             0.7,
             "#b8e186"
            ],
            [
             0.8,
             "#7fbc41"
            ],
            [
             0.9,
             "#4d9221"
            ],
            [
             1,
             "#276419"
            ]
           ],
           "sequential": [
            [
             0,
             "#0d0887"
            ],
            [
             0.1111111111111111,
             "#46039f"
            ],
            [
             0.2222222222222222,
             "#7201a8"
            ],
            [
             0.3333333333333333,
             "#9c179e"
            ],
            [
             0.4444444444444444,
             "#bd3786"
            ],
            [
             0.5555555555555556,
             "#d8576b"
            ],
            [
             0.6666666666666666,
             "#ed7953"
            ],
            [
             0.7777777777777778,
             "#fb9f3a"
            ],
            [
             0.8888888888888888,
             "#fdca26"
            ],
            [
             1,
             "#f0f921"
            ]
           ],
           "sequentialminus": [
            [
             0,
             "#0d0887"
            ],
            [
             0.1111111111111111,
             "#46039f"
            ],
            [
             0.2222222222222222,
             "#7201a8"
            ],
            [
             0.3333333333333333,
             "#9c179e"
            ],
            [
             0.4444444444444444,
             "#bd3786"
            ],
            [
             0.5555555555555556,
             "#d8576b"
            ],
            [
             0.6666666666666666,
             "#ed7953"
            ],
            [
             0.7777777777777778,
             "#fb9f3a"
            ],
            [
             0.8888888888888888,
             "#fdca26"
            ],
            [
             1,
             "#f0f921"
            ]
           ]
          },
          "colorway": [
           "#636efa",
           "#EF553B",
           "#00cc96",
           "#ab63fa",
           "#FFA15A",
           "#19d3f3",
           "#FF6692",
           "#B6E880",
           "#FF97FF",
           "#FECB52"
          ],
          "font": {
           "color": "#2a3f5f"
          },
          "geo": {
           "bgcolor": "white",
           "lakecolor": "white",
           "landcolor": "#E5ECF6",
           "showlakes": true,
           "showland": true,
           "subunitcolor": "white"
          },
          "hoverlabel": {
           "align": "left"
          },
          "hovermode": "closest",
          "mapbox": {
           "style": "light"
          },
          "paper_bgcolor": "white",
          "plot_bgcolor": "#E5ECF6",
          "polar": {
           "angularaxis": {
            "gridcolor": "white",
            "linecolor": "white",
            "ticks": ""
           },
           "bgcolor": "#E5ECF6",
           "radialaxis": {
            "gridcolor": "white",
            "linecolor": "white",
            "ticks": ""
           }
          },
          "scene": {
           "xaxis": {
            "backgroundcolor": "#E5ECF6",
            "gridcolor": "white",
            "gridwidth": 2,
            "linecolor": "white",
            "showbackground": true,
            "ticks": "",
            "zerolinecolor": "white"
           },
           "yaxis": {
            "backgroundcolor": "#E5ECF6",
            "gridcolor": "white",
            "gridwidth": 2,
            "linecolor": "white",
            "showbackground": true,
            "ticks": "",
            "zerolinecolor": "white"
           },
           "zaxis": {
            "backgroundcolor": "#E5ECF6",
            "gridcolor": "white",
            "gridwidth": 2,
            "linecolor": "white",
            "showbackground": true,
            "ticks": "",
            "zerolinecolor": "white"
           }
          },
          "shapedefaults": {
           "line": {
            "color": "#2a3f5f"
           }
          },
          "ternary": {
           "aaxis": {
            "gridcolor": "white",
            "linecolor": "white",
            "ticks": ""
           },
           "baxis": {
            "gridcolor": "white",
            "linecolor": "white",
            "ticks": ""
           },
           "bgcolor": "#E5ECF6",
           "caxis": {
            "gridcolor": "white",
            "linecolor": "white",
            "ticks": ""
           }
          },
          "title": {
           "x": 0.05
          },
          "xaxis": {
           "automargin": true,
           "gridcolor": "white",
           "linecolor": "white",
           "ticks": "",
           "title": {
            "standoff": 15
           },
           "zerolinecolor": "white",
           "zerolinewidth": 2
          },
          "yaxis": {
           "automargin": true,
           "gridcolor": "white",
           "linecolor": "white",
           "ticks": "",
           "title": {
            "standoff": 15
           },
           "zerolinecolor": "white",
           "zerolinewidth": 2
          }
         }
        },
        "width": 150,
        "xaxis": {
         "anchor": "y",
         "domain": [
          0,
          1
         ],
         "showticklabels": false
        },
        "yaxis": {
         "anchor": "x",
         "domain": [
          0,
          1
         ],
         "showticklabels": false
        }
       }
      }
     },
     "metadata": {},
     "output_type": "display_data"
    },
    {
     "name": "stdout",
     "output_type": "stream",
     "text": [
      "(6, 3, 150, 150)\n"
     ]
    }
   ],
   "source": [
    "arr = np.load(section_dir / \"numbers.npy\")\n",
    "display_array_as_img(arr[0])\n",
    "print(arr.shape)"
   ]
  },
  {
   "cell_type": "code",
   "execution_count": 27,
   "metadata": {},
   "outputs": [
    {
     "name": "stdout",
     "output_type": "stream",
     "text": [
      "(3, 150, 900)\n"
     ]
    },
    {
     "data": {
      "application/vnd.plotly.v1+json": {
       "config": {
        "displayModeBar": false,
        "plotlyServerURL": "https://plot.ly"
       },
       "data": [
        {
         "hovertemplate": "x: %{x}<br>y: %{y}<br>color: [%{z[0]}, %{z[1]}, %{z[2]}]<extra></extra>",
         "name": "0",
         "source": "data:image/png;base64,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",
         "type": "image",
         "xaxis": "x",
         "yaxis": "y"
        }
       ],
       "layout": {
        "coloraxis": {
         "showscale": false
        },
        "height": 150,
        "margin": {
         "b": 0,
         "l": 0,
         "r": 0,
         "t": 0
        },
        "template": {
         "data": {
          "bar": [
           {
            "error_x": {
             "color": "#2a3f5f"
            },
            "error_y": {
             "color": "#2a3f5f"
            },
            "marker": {
             "line": {
              "color": "#E5ECF6",
              "width": 0.5
             },
             "pattern": {
              "fillmode": "overlay",
              "size": 10,
              "solidity": 0.2
             }
            },
            "type": "bar"
           }
          ],
          "barpolar": [
           {
            "marker": {
             "line": {
              "color": "#E5ECF6",
              "width": 0.5
             },
             "pattern": {
              "fillmode": "overlay",
              "size": 10,
              "solidity": 0.2
             }
            },
            "type": "barpolar"
           }
          ],
          "carpet": [
           {
            "aaxis": {
             "endlinecolor": "#2a3f5f",
             "gridcolor": "white",
             "linecolor": "white",
             "minorgridcolor": "white",
             "startlinecolor": "#2a3f5f"
            },
            "baxis": {
             "endlinecolor": "#2a3f5f",
             "gridcolor": "white",
             "linecolor": "white",
             "minorgridcolor": "white",
             "startlinecolor": "#2a3f5f"
            },
            "type": "carpet"
           }
          ],
          "choropleth": [
           {
            "colorbar": {
             "outlinewidth": 0,
             "ticks": ""
            },
            "type": "choropleth"
           }
          ],
          "contour": [
           {
            "colorbar": {
             "outlinewidth": 0,
             "ticks": ""
            },
            "colorscale": [
             [
              0,
              "#0d0887"
             ],
             [
              0.1111111111111111,
              "#46039f"
             ],
             [
              0.2222222222222222,
              "#7201a8"
             ],
             [
              0.3333333333333333,
              "#9c179e"
             ],
             [
              0.4444444444444444,
              "#bd3786"
             ],
             [
              0.5555555555555556,
              "#d8576b"
             ],
             [
              0.6666666666666666,
              "#ed7953"
             ],
             [
              0.7777777777777778,
              "#fb9f3a"
             ],
             [
              0.8888888888888888,
              "#fdca26"
             ],
             [
              1,
              "#f0f921"
             ]
            ],
            "type": "contour"
           }
          ],
          "contourcarpet": [
           {
            "colorbar": {
             "outlinewidth": 0,
             "ticks": ""
            },
            "type": "contourcarpet"
           }
          ],
          "heatmap": [
           {
            "colorbar": {
             "outlinewidth": 0,
             "ticks": ""
            },
            "colorscale": [
             [
              0,
              "#0d0887"
             ],
             [
              0.1111111111111111,
              "#46039f"
             ],
             [
              0.2222222222222222,
              "#7201a8"
             ],
             [
              0.3333333333333333,
              "#9c179e"
             ],
             [
              0.4444444444444444,
              "#bd3786"
             ],
             [
              0.5555555555555556,
              "#d8576b"
             ],
             [
              0.6666666666666666,
              "#ed7953"
             ],
             [
              0.7777777777777778,
              "#fb9f3a"
             ],
             [
              0.8888888888888888,
              "#fdca26"
             ],
             [
              1,
              "#f0f921"
             ]
            ],
            "type": "heatmap"
           }
          ],
          "heatmapgl": [
           {
            "colorbar": {
             "outlinewidth": 0,
             "ticks": ""
            },
            "colorscale": [
             [
              0,
              "#0d0887"
             ],
             [
              0.1111111111111111,
              "#46039f"
             ],
             [
              0.2222222222222222,
              "#7201a8"
             ],
             [
              0.3333333333333333,
              "#9c179e"
             ],
             [
              0.4444444444444444,
              "#bd3786"
             ],
             [
              0.5555555555555556,
              "#d8576b"
             ],
             [
              0.6666666666666666,
              "#ed7953"
             ],
             [
              0.7777777777777778,
              "#fb9f3a"
             ],
             [
              0.8888888888888888,
              "#fdca26"
             ],
             [
              1,
              "#f0f921"
             ]
            ],
            "type": "heatmapgl"
           }
          ],
          "histogram": [
           {
            "marker": {
             "pattern": {
              "fillmode": "overlay",
              "size": 10,
              "solidity": 0.2
             }
            },
            "type": "histogram"
           }
          ],
          "histogram2d": [
           {
            "colorbar": {
             "outlinewidth": 0,
             "ticks": ""
            },
            "colorscale": [
             [
              0,
              "#0d0887"
             ],
             [
              0.1111111111111111,
              "#46039f"
             ],
             [
              0.2222222222222222,
              "#7201a8"
             ],
             [
              0.3333333333333333,
              "#9c179e"
             ],
             [
              0.4444444444444444,
              "#bd3786"
             ],
             [
              0.5555555555555556,
              "#d8576b"
             ],
             [
              0.6666666666666666,
              "#ed7953"
             ],
             [
              0.7777777777777778,
              "#fb9f3a"
             ],
             [
              0.8888888888888888,
              "#fdca26"
             ],
             [
              1,
              "#f0f921"
             ]
            ],
            "type": "histogram2d"
           }
          ],
          "histogram2dcontour": [
           {
            "colorbar": {
             "outlinewidth": 0,
             "ticks": ""
            },
            "colorscale": [
             [
              0,
              "#0d0887"
             ],
             [
              0.1111111111111111,
              "#46039f"
             ],
             [
              0.2222222222222222,
              "#7201a8"
             ],
             [
              0.3333333333333333,
              "#9c179e"
             ],
             [
              0.4444444444444444,
              "#bd3786"
             ],
             [
              0.5555555555555556,
              "#d8576b"
             ],
             [
              0.6666666666666666,
              "#ed7953"
             ],
             [
              0.7777777777777778,
              "#fb9f3a"
             ],
             [
              0.8888888888888888,
              "#fdca26"
             ],
             [
              1,
              "#f0f921"
             ]
            ],
            "type": "histogram2dcontour"
           }
          ],
          "mesh3d": [
           {
            "colorbar": {
             "outlinewidth": 0,
             "ticks": ""
            },
            "type": "mesh3d"
           }
          ],
          "parcoords": [
           {
            "line": {
             "colorbar": {
              "outlinewidth": 0,
              "ticks": ""
             }
            },
            "type": "parcoords"
           }
          ],
          "pie": [
           {
            "automargin": true,
            "type": "pie"
           }
          ],
          "scatter": [
           {
            "fillpattern": {
             "fillmode": "overlay",
             "size": 10,
             "solidity": 0.2
            },
            "type": "scatter"
           }
          ],
          "scatter3d": [
           {
            "line": {
             "colorbar": {
              "outlinewidth": 0,
              "ticks": ""
             }
            },
            "marker": {
             "colorbar": {
              "outlinewidth": 0,
              "ticks": ""
             }
            },
            "type": "scatter3d"
           }
          ],
          "scattercarpet": [
           {
            "marker": {
             "colorbar": {
              "outlinewidth": 0,
              "ticks": ""
             }
            },
            "type": "scattercarpet"
           }
          ],
          "scattergeo": [
           {
            "marker": {
             "colorbar": {
              "outlinewidth": 0,
              "ticks": ""
             }
            },
            "type": "scattergeo"
           }
          ],
          "scattergl": [
           {
            "marker": {
             "colorbar": {
              "outlinewidth": 0,
              "ticks": ""
             }
            },
            "type": "scattergl"
           }
          ],
          "scattermapbox": [
           {
            "marker": {
             "colorbar": {
              "outlinewidth": 0,
              "ticks": ""
             }
            },
            "type": "scattermapbox"
           }
          ],
          "scatterpolar": [
           {
            "marker": {
             "colorbar": {
              "outlinewidth": 0,
              "ticks": ""
             }
            },
            "type": "scatterpolar"
           }
          ],
          "scatterpolargl": [
           {
            "marker": {
             "colorbar": {
              "outlinewidth": 0,
              "ticks": ""
             }
            },
            "type": "scatterpolargl"
           }
          ],
          "scatterternary": [
           {
            "marker": {
             "colorbar": {
              "outlinewidth": 0,
              "ticks": ""
             }
            },
            "type": "scatterternary"
           }
          ],
          "surface": [
           {
            "colorbar": {
             "outlinewidth": 0,
             "ticks": ""
            },
            "colorscale": [
             [
              0,
              "#0d0887"
             ],
             [
              0.1111111111111111,
              "#46039f"
             ],
             [
              0.2222222222222222,
              "#7201a8"
             ],
             [
              0.3333333333333333,
              "#9c179e"
             ],
             [
              0.4444444444444444,
              "#bd3786"
             ],
             [
              0.5555555555555556,
              "#d8576b"
             ],
             [
              0.6666666666666666,
              "#ed7953"
             ],
             [
              0.7777777777777778,
              "#fb9f3a"
             ],
             [
              0.8888888888888888,
              "#fdca26"
             ],
             [
              1,
              "#f0f921"
             ]
            ],
            "type": "surface"
           }
          ],
          "table": [
           {
            "cells": {
             "fill": {
              "color": "#EBF0F8"
             },
             "line": {
              "color": "white"
             }
            },
            "header": {
             "fill": {
              "color": "#C8D4E3"
             },
             "line": {
              "color": "white"
             }
            },
            "type": "table"
           }
          ]
         },
         "layout": {
          "annotationdefaults": {
           "arrowcolor": "#2a3f5f",
           "arrowhead": 0,
           "arrowwidth": 1
          },
          "autotypenumbers": "strict",
          "coloraxis": {
           "colorbar": {
            "outlinewidth": 0,
            "ticks": ""
           }
          },
          "colorscale": {
           "diverging": [
            [
             0,
             "#8e0152"
            ],
            [
             0.1,
             "#c51b7d"
            ],
            [
             0.2,
             "#de77ae"
            ],
            [
             0.3,
             "#f1b6da"
            ],
            [
             0.4,
             "#fde0ef"
            ],
            [
             0.5,
             "#f7f7f7"
            ],
            [
             0.6,
             "#e6f5d0"
            ],
            [
             0.7,
             "#b8e186"
            ],
            [
             0.8,
             "#7fbc41"
            ],
            [
             0.9,
             "#4d9221"
            ],
            [
             1,
             "#276419"
            ]
           ],
           "sequential": [
            [
             0,
             "#0d0887"
            ],
            [
             0.1111111111111111,
             "#46039f"
            ],
            [
             0.2222222222222222,
             "#7201a8"
            ],
            [
             0.3333333333333333,
             "#9c179e"
            ],
            [
             0.4444444444444444,
             "#bd3786"
            ],
            [
             0.5555555555555556,
             "#d8576b"
            ],
            [
             0.6666666666666666,
             "#ed7953"
            ],
            [
             0.7777777777777778,
             "#fb9f3a"
            ],
            [
             0.8888888888888888,
             "#fdca26"
            ],
            [
             1,
             "#f0f921"
            ]
           ],
           "sequentialminus": [
            [
             0,
             "#0d0887"
            ],
            [
             0.1111111111111111,
             "#46039f"
            ],
            [
             0.2222222222222222,
             "#7201a8"
            ],
            [
             0.3333333333333333,
             "#9c179e"
            ],
            [
             0.4444444444444444,
             "#bd3786"
            ],
            [
             0.5555555555555556,
             "#d8576b"
            ],
            [
             0.6666666666666666,
             "#ed7953"
            ],
            [
             0.7777777777777778,
             "#fb9f3a"
            ],
            [
             0.8888888888888888,
             "#fdca26"
            ],
            [
             1,
             "#f0f921"
            ]
           ]
          },
          "colorway": [
           "#636efa",
           "#EF553B",
           "#00cc96",
           "#ab63fa",
           "#FFA15A",
           "#19d3f3",
           "#FF6692",
           "#B6E880",
           "#FF97FF",
           "#FECB52"
          ],
          "font": {
           "color": "#2a3f5f"
          },
          "geo": {
           "bgcolor": "white",
           "lakecolor": "white",
           "landcolor": "#E5ECF6",
           "showlakes": true,
           "showland": true,
           "subunitcolor": "white"
          },
          "hoverlabel": {
           "align": "left"
          },
          "hovermode": "closest",
          "mapbox": {
           "style": "light"
          },
          "paper_bgcolor": "white",
          "plot_bgcolor": "#E5ECF6",
          "polar": {
           "angularaxis": {
            "gridcolor": "white",
            "linecolor": "white",
            "ticks": ""
           },
           "bgcolor": "#E5ECF6",
           "radialaxis": {
            "gridcolor": "white",
            "linecolor": "white",
            "ticks": ""
           }
          },
          "scene": {
           "xaxis": {
            "backgroundcolor": "#E5ECF6",
            "gridcolor": "white",
            "gridwidth": 2,
            "linecolor": "white",
            "showbackground": true,
            "ticks": "",
            "zerolinecolor": "white"
           },
           "yaxis": {
            "backgroundcolor": "#E5ECF6",
            "gridcolor": "white",
            "gridwidth": 2,
            "linecolor": "white",
            "showbackground": true,
            "ticks": "",
            "zerolinecolor": "white"
           },
           "zaxis": {
            "backgroundcolor": "#E5ECF6",
            "gridcolor": "white",
            "gridwidth": 2,
            "linecolor": "white",
            "showbackground": true,
            "ticks": "",
            "zerolinecolor": "white"
           }
          },
          "shapedefaults": {
           "line": {
            "color": "#2a3f5f"
           }
          },
          "ternary": {
           "aaxis": {
            "gridcolor": "white",
            "linecolor": "white",
            "ticks": ""
           },
           "baxis": {
            "gridcolor": "white",
            "linecolor": "white",
            "ticks": ""
           },
           "bgcolor": "#E5ECF6",
           "caxis": {
            "gridcolor": "white",
            "linecolor": "white",
            "ticks": ""
           }
          },
          "title": {
           "x": 0.05
          },
          "xaxis": {
           "automargin": true,
           "gridcolor": "white",
           "linecolor": "white",
           "ticks": "",
           "title": {
            "standoff": 15
           },
           "zerolinecolor": "white",
           "zerolinewidth": 2
          },
          "yaxis": {
           "automargin": true,
           "gridcolor": "white",
           "linecolor": "white",
           "ticks": "",
           "title": {
            "standoff": 15
           },
           "zerolinecolor": "white",
           "zerolinewidth": 2
          }
         }
        },
        "width": 900,
        "xaxis": {
         "anchor": "y",
         "domain": [
          0,
          1
         ],
         "showticklabels": false
        },
        "yaxis": {
         "anchor": "x",
         "domain": [
          0,
          1
         ],
         "showticklabels": false
        }
       }
      }
     },
     "metadata": {},
     "output_type": "display_data"
    }
   ],
   "source": [
    "arr1 = einops.rearrange(arr, 'b c h w -> c h (b w)')\n",
    "print(arr1.shape)\n",
    "display_array_as_img(arr1)"
   ]
  },
  {
   "cell_type": "code",
   "execution_count": 33,
   "metadata": {},
   "outputs": [
    {
     "data": {
      "application/vnd.plotly.v1+json": {
       "config": {
        "displayModeBar": false,
        "plotlyServerURL": "https://plot.ly"
       },
       "data": [
        {
         "hovertemplate": "x: %{x}<br>y: %{y}<br>color: [%{z[0]}, %{z[1]}, %{z[2]}]<extra></extra>",
         "name": "0",
         "source": "data:image/png;base64,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",
         "type": "image",
         "xaxis": "x",
         "yaxis": "y"
        }
       ],
       "layout": {
        "coloraxis": {
         "showscale": false
        },
        "height": 300,
        "margin": {
         "b": 0,
         "l": 0,
         "r": 0,
         "t": 0
        },
        "template": {
         "data": {
          "bar": [
           {
            "error_x": {
             "color": "#2a3f5f"
            },
            "error_y": {
             "color": "#2a3f5f"
            },
            "marker": {
             "line": {
              "color": "#E5ECF6",
              "width": 0.5
             },
             "pattern": {
              "fillmode": "overlay",
              "size": 10,
              "solidity": 0.2
             }
            },
            "type": "bar"
           }
          ],
          "barpolar": [
           {
            "marker": {
             "line": {
              "color": "#E5ECF6",
              "width": 0.5
             },
             "pattern": {
              "fillmode": "overlay",
              "size": 10,
              "solidity": 0.2
             }
            },
            "type": "barpolar"
           }
          ],
          "carpet": [
           {
            "aaxis": {
             "endlinecolor": "#2a3f5f",
             "gridcolor": "white",
             "linecolor": "white",
             "minorgridcolor": "white",
             "startlinecolor": "#2a3f5f"
            },
            "baxis": {
             "endlinecolor": "#2a3f5f",
             "gridcolor": "white",
             "linecolor": "white",
             "minorgridcolor": "white",
             "startlinecolor": "#2a3f5f"
            },
            "type": "carpet"
           }
          ],
          "choropleth": [
           {
            "colorbar": {
             "outlinewidth": 0,
             "ticks": ""
            },
            "type": "choropleth"
           }
          ],
          "contour": [
           {
            "colorbar": {
             "outlinewidth": 0,
             "ticks": ""
            },
            "colorscale": [
             [
              0,
              "#0d0887"
             ],
             [
              0.1111111111111111,
              "#46039f"
             ],
             [
              0.2222222222222222,
              "#7201a8"
             ],
             [
              0.3333333333333333,
              "#9c179e"
             ],
             [
              0.4444444444444444,
              "#bd3786"
             ],
             [
              0.5555555555555556,
              "#d8576b"
             ],
             [
              0.6666666666666666,
              "#ed7953"
             ],
             [
              0.7777777777777778,
              "#fb9f3a"
             ],
             [
              0.8888888888888888,
              "#fdca26"
             ],
             [
              1,
              "#f0f921"
             ]
            ],
            "type": "contour"
           }
          ],
          "contourcarpet": [
           {
            "colorbar": {
             "outlinewidth": 0,
             "ticks": ""
            },
            "type": "contourcarpet"
           }
          ],
          "heatmap": [
           {
            "colorbar": {
             "outlinewidth": 0,
             "ticks": ""
            },
            "colorscale": [
             [
              0,
              "#0d0887"
             ],
             [
              0.1111111111111111,
              "#46039f"
             ],
             [
              0.2222222222222222,
              "#7201a8"
             ],
             [
              0.3333333333333333,
              "#9c179e"
             ],
             [
              0.4444444444444444,
              "#bd3786"
             ],
             [
              0.5555555555555556,
              "#d8576b"
             ],
             [
              0.6666666666666666,
              "#ed7953"
             ],
             [
              0.7777777777777778,
              "#fb9f3a"
             ],
             [
              0.8888888888888888,
              "#fdca26"
             ],
             [
              1,
              "#f0f921"
             ]
            ],
            "type": "heatmap"
           }
          ],
          "heatmapgl": [
           {
            "colorbar": {
             "outlinewidth": 0,
             "ticks": ""
            },
            "colorscale": [
             [
              0,
              "#0d0887"
             ],
             [
              0.1111111111111111,
              "#46039f"
             ],
             [
              0.2222222222222222,
              "#7201a8"
             ],
             [
              0.3333333333333333,
              "#9c179e"
             ],
             [
              0.4444444444444444,
              "#bd3786"
             ],
             [
              0.5555555555555556,
              "#d8576b"
             ],
             [
              0.6666666666666666,
              "#ed7953"
             ],
             [
              0.7777777777777778,
              "#fb9f3a"
             ],
             [
              0.8888888888888888,
              "#fdca26"
             ],
             [
              1,
              "#f0f921"
             ]
            ],
            "type": "heatmapgl"
           }
          ],
          "histogram": [
           {
            "marker": {
             "pattern": {
              "fillmode": "overlay",
              "size": 10,
              "solidity": 0.2
             }
            },
            "type": "histogram"
           }
          ],
          "histogram2d": [
           {
            "colorbar": {
             "outlinewidth": 0,
             "ticks": ""
            },
            "colorscale": [
             [
              0,
              "#0d0887"
             ],
             [
              0.1111111111111111,
              "#46039f"
             ],
             [
              0.2222222222222222,
              "#7201a8"
             ],
             [
              0.3333333333333333,
              "#9c179e"
             ],
             [
              0.4444444444444444,
              "#bd3786"
             ],
             [
              0.5555555555555556,
              "#d8576b"
             ],
             [
              0.6666666666666666,
              "#ed7953"
             ],
             [
              0.7777777777777778,
              "#fb9f3a"
             ],
             [
              0.8888888888888888,
              "#fdca26"
             ],
             [
              1,
              "#f0f921"
             ]
            ],
            "type": "histogram2d"
           }
          ],
          "histogram2dcontour": [
           {
            "colorbar": {
             "outlinewidth": 0,
             "ticks": ""
            },
            "colorscale": [
             [
              0,
              "#0d0887"
             ],
             [
              0.1111111111111111,
              "#46039f"
             ],
             [
              0.2222222222222222,
              "#7201a8"
             ],
             [
              0.3333333333333333,
              "#9c179e"
             ],
             [
              0.4444444444444444,
              "#bd3786"
             ],
             [
              0.5555555555555556,
              "#d8576b"
             ],
             [
              0.6666666666666666,
              "#ed7953"
             ],
             [
              0.7777777777777778,
              "#fb9f3a"
             ],
             [
              0.8888888888888888,
              "#fdca26"
             ],
             [
              1,
              "#f0f921"
             ]
            ],
            "type": "histogram2dcontour"
           }
          ],
          "mesh3d": [
           {
            "colorbar": {
             "outlinewidth": 0,
             "ticks": ""
            },
            "type": "mesh3d"
           }
          ],
          "parcoords": [
           {
            "line": {
             "colorbar": {
              "outlinewidth": 0,
              "ticks": ""
             }
            },
            "type": "parcoords"
           }
          ],
          "pie": [
           {
            "automargin": true,
            "type": "pie"
           }
          ],
          "scatter": [
           {
            "fillpattern": {
             "fillmode": "overlay",
             "size": 10,
             "solidity": 0.2
            },
            "type": "scatter"
           }
          ],
          "scatter3d": [
           {
            "line": {
             "colorbar": {
              "outlinewidth": 0,
              "ticks": ""
             }
            },
            "marker": {
             "colorbar": {
              "outlinewidth": 0,
              "ticks": ""
             }
            },
            "type": "scatter3d"
           }
          ],
          "scattercarpet": [
           {
            "marker": {
             "colorbar": {
              "outlinewidth": 0,
              "ticks": ""
             }
            },
            "type": "scattercarpet"
           }
          ],
          "scattergeo": [
           {
            "marker": {
             "colorbar": {
              "outlinewidth": 0,
              "ticks": ""
             }
            },
            "type": "scattergeo"
           }
          ],
          "scattergl": [
           {
            "marker": {
             "colorbar": {
              "outlinewidth": 0,
              "ticks": ""
             }
            },
            "type": "scattergl"
           }
          ],
          "scattermapbox": [
           {
            "marker": {
             "colorbar": {
              "outlinewidth": 0,
              "ticks": ""
             }
            },
            "type": "scattermapbox"
           }
          ],
          "scatterpolar": [
           {
            "marker": {
             "colorbar": {
              "outlinewidth": 0,
              "ticks": ""
             }
            },
            "type": "scatterpolar"
           }
          ],
          "scatterpolargl": [
           {
            "marker": {
             "colorbar": {
              "outlinewidth": 0,
              "ticks": ""
             }
            },
            "type": "scatterpolargl"
           }
          ],
          "scatterternary": [
           {
            "marker": {
             "colorbar": {
              "outlinewidth": 0,
              "ticks": ""
             }
            },
            "type": "scatterternary"
           }
          ],
          "surface": [
           {
            "colorbar": {
             "outlinewidth": 0,
             "ticks": ""
            },
            "colorscale": [
             [
              0,
              "#0d0887"
             ],
             [
              0.1111111111111111,
              "#46039f"
             ],
             [
              0.2222222222222222,
              "#7201a8"
             ],
             [
              0.3333333333333333,
              "#9c179e"
             ],
             [
              0.4444444444444444,
              "#bd3786"
             ],
             [
              0.5555555555555556,
              "#d8576b"
             ],
             [
              0.6666666666666666,
              "#ed7953"
             ],
             [
              0.7777777777777778,
              "#fb9f3a"
             ],
             [
              0.8888888888888888,
              "#fdca26"
             ],
             [
              1,
              "#f0f921"
             ]
            ],
            "type": "surface"
           }
          ],
          "table": [
           {
            "cells": {
             "fill": {
              "color": "#EBF0F8"
             },
             "line": {
              "color": "white"
             }
            },
            "header": {
             "fill": {
              "color": "#C8D4E3"
             },
             "line": {
              "color": "white"
             }
            },
            "type": "table"
           }
          ]
         },
         "layout": {
          "annotationdefaults": {
           "arrowcolor": "#2a3f5f",
           "arrowhead": 0,
           "arrowwidth": 1
          },
          "autotypenumbers": "strict",
          "coloraxis": {
           "colorbar": {
            "outlinewidth": 0,
            "ticks": ""
           }
          },
          "colorscale": {
           "diverging": [
            [
             0,
             "#8e0152"
            ],
            [
             0.1,
             "#c51b7d"
            ],
            [
             0.2,
             "#de77ae"
            ],
            [
             0.3,
             "#f1b6da"
            ],
            [
             0.4,
             "#fde0ef"
            ],
            [
             0.5,
             "#f7f7f7"
            ],
            [
             0.6,
             "#e6f5d0"
            ],
            [
             0.7,
             "#b8e186"
            ],
            [
             0.8,
             "#7fbc41"
            ],
            [
             0.9,
             "#4d9221"
            ],
            [
             1,
             "#276419"
            ]
           ],
           "sequential": [
            [
             0,
             "#0d0887"
            ],
            [
             0.1111111111111111,
             "#46039f"
            ],
            [
             0.2222222222222222,
             "#7201a8"
            ],
            [
             0.3333333333333333,
             "#9c179e"
            ],
            [
             0.4444444444444444,
             "#bd3786"
            ],
            [
             0.5555555555555556,
             "#d8576b"
            ],
            [
             0.6666666666666666,
             "#ed7953"
            ],
            [
             0.7777777777777778,
             "#fb9f3a"
            ],
            [
             0.8888888888888888,
             "#fdca26"
            ],
            [
             1,
             "#f0f921"
            ]
           ],
           "sequentialminus": [
            [
             0,
             "#0d0887"
            ],
            [
             0.1111111111111111,
             "#46039f"
            ],
            [
             0.2222222222222222,
             "#7201a8"
            ],
            [
             0.3333333333333333,
             "#9c179e"
            ],
            [
             0.4444444444444444,
             "#bd3786"
            ],
            [
             0.5555555555555556,
             "#d8576b"
            ],
            [
             0.6666666666666666,
             "#ed7953"
            ],
            [
             0.7777777777777778,
             "#fb9f3a"
            ],
            [
             0.8888888888888888,
             "#fdca26"
            ],
            [
             1,
             "#f0f921"
            ]
           ]
          },
          "colorway": [
           "#636efa",
           "#EF553B",
           "#00cc96",
           "#ab63fa",
           "#FFA15A",
           "#19d3f3",
           "#FF6692",
           "#B6E880",
           "#FF97FF",
           "#FECB52"
          ],
          "font": {
           "color": "#2a3f5f"
          },
          "geo": {
           "bgcolor": "white",
           "lakecolor": "white",
           "landcolor": "#E5ECF6",
           "showlakes": true,
           "showland": true,
           "subunitcolor": "white"
          },
          "hoverlabel": {
           "align": "left"
          },
          "hovermode": "closest",
          "mapbox": {
           "style": "light"
          },
          "paper_bgcolor": "white",
          "plot_bgcolor": "#E5ECF6",
          "polar": {
           "angularaxis": {
            "gridcolor": "white",
            "linecolor": "white",
            "ticks": ""
           },
           "bgcolor": "#E5ECF6",
           "radialaxis": {
            "gridcolor": "white",
            "linecolor": "white",
            "ticks": ""
           }
          },
          "scene": {
           "xaxis": {
            "backgroundcolor": "#E5ECF6",
            "gridcolor": "white",
            "gridwidth": 2,
            "linecolor": "white",
            "showbackground": true,
            "ticks": "",
            "zerolinecolor": "white"
           },
           "yaxis": {
            "backgroundcolor": "#E5ECF6",
            "gridcolor": "white",
            "gridwidth": 2,
            "linecolor": "white",
            "showbackground": true,
            "ticks": "",
            "zerolinecolor": "white"
           },
           "zaxis": {
            "backgroundcolor": "#E5ECF6",
            "gridcolor": "white",
            "gridwidth": 2,
            "linecolor": "white",
            "showbackground": true,
            "ticks": "",
            "zerolinecolor": "white"
           }
          },
          "shapedefaults": {
           "line": {
            "color": "#2a3f5f"
           }
          },
          "ternary": {
           "aaxis": {
            "gridcolor": "white",
            "linecolor": "white",
            "ticks": ""
           },
           "baxis": {
            "gridcolor": "white",
            "linecolor": "white",
            "ticks": ""
           },
           "bgcolor": "#E5ECF6",
           "caxis": {
            "gridcolor": "white",
            "linecolor": "white",
            "ticks": ""
           }
          },
          "title": {
           "x": 0.05
          },
          "xaxis": {
           "automargin": true,
           "gridcolor": "white",
           "linecolor": "white",
           "ticks": "",
           "title": {
            "standoff": 15
           },
           "zerolinecolor": "white",
           "zerolinewidth": 2
          },
          "yaxis": {
           "automargin": true,
           "gridcolor": "white",
           "linecolor": "white",
           "ticks": "",
           "title": {
            "standoff": 15
           },
           "zerolinecolor": "white",
           "zerolinewidth": 2
          }
         }
        },
        "width": 150,
        "xaxis": {
         "anchor": "y",
         "domain": [
          0,
          1
         ],
         "showticklabels": false
        },
        "yaxis": {
         "anchor": "x",
         "domain": [
          0,
          1
         ],
         "showticklabels": false
        }
       }
      }
     },
     "metadata": {},
     "output_type": "display_data"
    }
   ],
   "source": [
    "arr2 = einops.repeat(arr[0], 'c h w -> c (2 h) w')\n",
    "\n",
    "display_array_as_img(arr2)"
   ]
  },
  {
   "cell_type": "code",
   "execution_count": null,
   "metadata": {},
   "outputs": [],
   "source": []
  }
 ],
 "metadata": {
  "kernelspec": {
   "display_name": ".venv",
   "language": "python",
   "name": "python3"
  },
  "language_info": {
   "codemirror_mode": {
    "name": "ipython",
    "version": 3
   },
   "file_extension": ".py",
   "mimetype": "text/x-python",
   "name": "python",
   "nbconvert_exporter": "python",
   "pygments_lexer": "ipython3",
   "version": "3.11.9"
  }
 },
 "nbformat": 4,
 "nbformat_minor": 2
}
